{
 "cells": [
  {
   "cell_type": "markdown",
   "metadata": {},
   "source": [
    "# Database Analysis\n",
    "\n",
    "Test and analysis of database."
   ]
  },
  {
   "cell_type": "code",
   "execution_count": 2,
   "metadata": {
    "collapsed": true
   },
   "outputs": [],
   "source": [
    "%matplotlib inline\n",
    "\n",
    "import numpy as np\n",
    "import pandas as pd\n",
    "import matplotlib.pyplot as plt\n",
    "\n",
    "from sklearn.preprocessing import imputation"
   ]
  },
  {
   "cell_type": "code",
   "execution_count": null,
   "metadata": {
    "collapsed": true
   },
   "outputs": [],
   "source": [
    "def getAge(string):\n",
    "    from datetime import datetime, date\n",
    "    \n",
    "    # get actual date\n",
    "    actual_date = datetime.now()\n",
    "    \n",
    "    # return nan if not available\n",
    "    if 'not_' in string:\n",
    "        return float('nan')\n",
    "    \n",
    "    # reference date as datetime obj\n",
    "    reference_date = datetime.strptime(string, '%d/%m/%Y')\n",
    "    \n",
    "    # calculate delta \n",
    "    delta = actual_date - reference_date\n",
    "    \n",
    "    # return years\n",
    "    return round(delta.total_seconds() / (60*60*24*365),2)"
   ]
  },
  {
   "cell_type": "markdown",
   "metadata": {},
   "source": [
    "### Read databases "
   ]
  },
  {
   "cell_type": "code",
   "execution_count": 4,
   "metadata": {
    "collapsed": false
   },
   "outputs": [
    {
     "data": {
      "text/html": [
       "<div>\n",
       "<table border=\"1\" class=\"dataframe\">\n",
       "  <thead>\n",
       "    <tr style=\"text-align: right;\">\n",
       "      <th></th>\n",
       "      <th>id_client</th>\n",
       "      <th>name</th>\n",
       "      <th>sex</th>\n",
       "      <th>birthday</th>\n",
       "      <th>own_house</th>\n",
       "      <th>premium_house</th>\n",
       "      <th>own_car</th>\n",
       "      <th>premium_car</th>\n",
       "      <th>active_job</th>\n",
       "      <th>monthly_income</th>\n",
       "      <th>postal_code</th>\n",
       "      <th>cellphone</th>\n",
       "      <th>premium_cellphone</th>\n",
       "      <th>historic_credits</th>\n",
       "      <th>score</th>\n",
       "    </tr>\n",
       "  </thead>\n",
       "  <tbody>\n",
       "    <tr>\n",
       "      <th>0</th>\n",
       "      <td>1</td>\n",
       "      <td>lawg</td>\n",
       "      <td>male</td>\n",
       "      <td>26/11/1995</td>\n",
       "      <td>0</td>\n",
       "      <td>0</td>\n",
       "      <td>1</td>\n",
       "      <td>0</td>\n",
       "      <td>1</td>\n",
       "      <td>not_available</td>\n",
       "      <td>not_available</td>\n",
       "      <td>Huawei</td>\n",
       "      <td>0</td>\n",
       "      <td>0</td>\n",
       "      <td>0</td>\n",
       "    </tr>\n",
       "    <tr>\n",
       "      <th>1</th>\n",
       "      <td>2</td>\n",
       "      <td>rhm</td>\n",
       "      <td>male</td>\n",
       "      <td>20/07/1994</td>\n",
       "      <td>0</td>\n",
       "      <td>0</td>\n",
       "      <td>0</td>\n",
       "      <td>0</td>\n",
       "      <td>1</td>\n",
       "      <td>not_available</td>\n",
       "      <td>not_available</td>\n",
       "      <td>Samsung</td>\n",
       "      <td>1</td>\n",
       "      <td>0</td>\n",
       "      <td>0</td>\n",
       "    </tr>\n",
       "    <tr>\n",
       "      <th>2</th>\n",
       "      <td>3</td>\n",
       "      <td>atrh</td>\n",
       "      <td>female</td>\n",
       "      <td>26/02/1995</td>\n",
       "      <td>0</td>\n",
       "      <td>0</td>\n",
       "      <td>0</td>\n",
       "      <td>0</td>\n",
       "      <td>1</td>\n",
       "      <td>not_available</td>\n",
       "      <td>not_available</td>\n",
       "      <td>Samsung</td>\n",
       "      <td>0</td>\n",
       "      <td>0</td>\n",
       "      <td>0</td>\n",
       "    </tr>\n",
       "    <tr>\n",
       "      <th>3</th>\n",
       "      <td>4</td>\n",
       "      <td>shg</td>\n",
       "      <td>male</td>\n",
       "      <td>not_available</td>\n",
       "      <td>1</td>\n",
       "      <td>1</td>\n",
       "      <td>1</td>\n",
       "      <td>1</td>\n",
       "      <td>1</td>\n",
       "      <td>not_available</td>\n",
       "      <td>not_available</td>\n",
       "      <td>iPhone</td>\n",
       "      <td>1</td>\n",
       "      <td>0</td>\n",
       "      <td>0</td>\n",
       "    </tr>\n",
       "  </tbody>\n",
       "</table>\n",
       "</div>"
      ],
      "text/plain": [
       "   id_client  name     sex       birthday  own_house  premium_house  own_car  \\\n",
       "0          1  lawg    male     26/11/1995          0              0        1   \n",
       "1          2   rhm    male     20/07/1994          0              0        0   \n",
       "2          3  atrh  female     26/02/1995          0              0        0   \n",
       "3          4   shg    male  not_available          1              1        1   \n",
       "\n",
       "   premium_car  active_job monthly_income    postal_code cellphone  \\\n",
       "0            0           1  not_available  not_available    Huawei   \n",
       "1            0           1  not_available  not_available   Samsung   \n",
       "2            0           1  not_available  not_available   Samsung   \n",
       "3            1           1  not_available  not_available    iPhone   \n",
       "\n",
       "   premium_cellphone  historic_credits  score  \n",
       "0                  0                 0      0  \n",
       "1                  1                 0      0  \n",
       "2                  0                 0      0  \n",
       "3                  1                 0      0  "
      ]
     },
     "execution_count": 4,
     "metadata": {},
     "output_type": "execute_result"
    }
   ],
   "source": [
    "\n",
    "clients = pd.read_csv('db/clients.csv')\n",
    "clients.head()\n"
   ]
  },
  {
   "cell_type": "code",
   "execution_count": 6,
   "metadata": {
    "collapsed": false
   },
   "outputs": [
    {
     "data": {
      "text/html": [
       "<div>\n",
       "<table border=\"1\" class=\"dataframe\">\n",
       "  <thead>\n",
       "    <tr style=\"text-align: right;\">\n",
       "      <th></th>\n",
       "      <th>id_investor</th>\n",
       "      <th>name</th>\n",
       "      <th>sex</th>\n",
       "      <th>birthday</th>\n",
       "    </tr>\n",
       "  </thead>\n",
       "  <tbody>\n",
       "    <tr>\n",
       "      <th>0</th>\n",
       "      <td>1</td>\n",
       "      <td>lawg</td>\n",
       "      <td>male</td>\n",
       "      <td>26/11/1995</td>\n",
       "    </tr>\n",
       "    <tr>\n",
       "      <th>1</th>\n",
       "      <td>2</td>\n",
       "      <td>rhm</td>\n",
       "      <td>male</td>\n",
       "      <td>20/07/1994</td>\n",
       "    </tr>\n",
       "    <tr>\n",
       "      <th>2</th>\n",
       "      <td>3</td>\n",
       "      <td>atrh</td>\n",
       "      <td>female</td>\n",
       "      <td>26/02/1995</td>\n",
       "    </tr>\n",
       "    <tr>\n",
       "      <th>3</th>\n",
       "      <td>4</td>\n",
       "      <td>shg</td>\n",
       "      <td>male</td>\n",
       "      <td>not_available</td>\n",
       "    </tr>\n",
       "  </tbody>\n",
       "</table>\n",
       "</div>"
      ],
      "text/plain": [
       "   id_investor  name     sex       birthday\n",
       "0            1  lawg    male     26/11/1995\n",
       "1            2   rhm    male     20/07/1994\n",
       "2            3  atrh  female     26/02/1995\n",
       "3            4   shg    male  not_available"
      ]
     },
     "execution_count": 6,
     "metadata": {},
     "output_type": "execute_result"
    }
   ],
   "source": [
    "\n",
    "investors = pd.read_csv('db/investors.csv')\n",
    "investors.head()\n"
   ]
  },
  {
   "cell_type": "code",
   "execution_count": 7,
   "metadata": {
    "collapsed": false
   },
   "outputs": [
    {
     "data": {
      "text/html": [
       "<div>\n",
       "<table border=\"1\" class=\"dataframe\">\n",
       "  <thead>\n",
       "    <tr style=\"text-align: right;\">\n",
       "      <th></th>\n",
       "      <th>id_transac</th>\n",
       "      <th>id_investor</th>\n",
       "      <th>id_client</th>\n",
       "      <th>initial_capital</th>\n",
       "      <th>initial_date</th>\n",
       "      <th>final_capital</th>\n",
       "      <th>final_date</th>\n",
       "      <th>status</th>\n",
       "      <th>on_time</th>\n",
       "      <th>resolved</th>\n",
       "      <th>reference</th>\n",
       "    </tr>\n",
       "  </thead>\n",
       "  <tbody>\n",
       "    <tr>\n",
       "      <th>0</th>\n",
       "      <td>1</td>\n",
       "      <td>2</td>\n",
       "      <td>1</td>\n",
       "      <td>6000</td>\n",
       "      <td>21/09/2016</td>\n",
       "      <td>6328.51</td>\n",
       "      <td>21/03/2017</td>\n",
       "      <td>active</td>\n",
       "      <td>0</td>\n",
       "      <td>0</td>\n",
       "      <td>160921_1_2_1</td>\n",
       "    </tr>\n",
       "    <tr>\n",
       "      <th>1</th>\n",
       "      <td>2</td>\n",
       "      <td>3</td>\n",
       "      <td>2</td>\n",
       "      <td>2000</td>\n",
       "      <td>21/09/2016</td>\n",
       "      <td>2000.00</td>\n",
       "      <td>21/03/2017</td>\n",
       "      <td>active</td>\n",
       "      <td>0</td>\n",
       "      <td>0</td>\n",
       "      <td>160921_2_3_2</td>\n",
       "    </tr>\n",
       "  </tbody>\n",
       "</table>\n",
       "</div>"
      ],
      "text/plain": [
       "   id_transac  id_investor  id_client  initial_capital initial_date  \\\n",
       "0           1            2          1             6000   21/09/2016   \n",
       "1           2            3          2             2000   21/09/2016   \n",
       "\n",
       "   final_capital  final_date  status  on_time  resolved     reference  \n",
       "0        6328.51  21/03/2017  active        0         0  160921_1_2_1  \n",
       "1        2000.00  21/03/2017  active        0         0  160921_2_3_2  "
      ]
     },
     "execution_count": 7,
     "metadata": {},
     "output_type": "execute_result"
    }
   ],
   "source": [
    "\n",
    "transactions = pd.read_csv('db/transactions.csv')\n",
    "transactions.head()\n"
   ]
  },
  {
   "cell_type": "markdown",
   "metadata": {},
   "source": [
    "### Descriptive stats"
   ]
  },
  {
   "cell_type": "code",
   "execution_count": 24,
   "metadata": {
    "collapsed": false
   },
   "outputs": [
    {
     "data": {
      "image/png": "[encoded data removed]",
      "text/plain": [
       "<matplotlib.figure.Figure at 0x10aa470>"
      ]
     },
     "metadata": {},
     "output_type": "display_data"
    }
   ],
   "source": [
    "\n",
    "clients.sex.value_counts().plot(kind = 'bar')\n",
    "plt.title(\"Bar Plot: Frequency of client's sex\")\n",
    "plt.ylabel('Observations')\n",
    "plt.grid()\n"
   ]
  },
  {
   "cell_type": "code",
   "execution_count": 62,
   "metadata": {
    "collapsed": false
   },
   "outputs": [
    {
     "data": {
      "image/png": "[encoded data removed]",
      "text/plain": [
       "<matplotlib.figure.Figure at 0x1593c90>"
      ]
     },
     "metadata": {},
     "output_type": "display_data"
    }
   ],
   "source": [
    "\n",
    "clients.cellphone.value_counts().plot(kind = 'bar')\n",
    "plt.title(\"Bar Plot: Frequency of client's smartphone\")\n",
    "plt.ylabel('Observations')\n",
    "plt.grid()\n"
   ]
  },
  {
   "cell_type": "code",
   "execution_count": 64,
   "metadata": {
    "collapsed": false
   },
   "outputs": [
    {
     "name": "stdout",
     "output_type": "stream",
     "text": [
      "Mean: 21.78\n",
      "Std : 0.6763874629234348\n"
     ]
    },
    {
     "data": {
      "image/png": "[encoded data removed]",
      "text/plain": [
       "<matplotlib.figure.Figure at 0x588f650>"
      ]
     },
     "metadata": {},
     "output_type": "display_data"
    }
   ],
   "source": [
    "\n",
    "clients.birthday.apply(getAge).plot(kind = 'kde')\n",
    "plt.title(\"Kernel Density Estimation of Client's Age\")\n",
    "plt.xlabel('Years')\n",
    "plt.grid()\n",
    "\n",
    "print('Mean: {}'.format(clients.birthday.apply(getAge).mean()))\n",
    "print('Std : {}'.format(clients.birthday.apply(getAge).std()))"
   ]
  },
  {
   "cell_type": "code",
   "execution_count": 51,
   "metadata": {
    "collapsed": false
   },
   "outputs": [],
   "source": []
  },
  {
   "cell_type": "code",
   "execution_count": null,
   "metadata": {
    "collapsed": false
   },
   "outputs": [],
   "source": []
  },
  {
   "cell_type": "code",
   "execution_count": null,
   "metadata": {
    "collapsed": true
   },
   "outputs": [],
   "source": []
  }
 ],
 "metadata": {
  "anaconda-cloud": {},
  "kernelspec": {
   "display_name": "Python [conda root]",
   "language": "python",
   "name": "conda-root-py"
  },
  "language_info": {
   "codemirror_mode": {
    "name": "ipython",
    "version": 3
   },
   "file_extension": ".py",
   "mimetype": "text/x-python",
   "name": "python",
   "nbconvert_exporter": "python",
   "pygments_lexer": "ipython3",
   "version": "3.5.2"
  }
 },
 "nbformat": 4,
 "nbformat_minor": 1
}
