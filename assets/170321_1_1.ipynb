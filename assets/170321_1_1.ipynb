{
 "cells": [
  {
   "cell_type": "markdown",
   "metadata": {},
   "source": [
    "# Reference number: 170321_1_1"
   ]
  },
  {
   "cell_type": "markdown",
   "metadata": {},
   "source": [
    "Reference number = 'date'+'id_client'+'id_transaction'\n",
    "\n",
    "Status: **active**."
   ]
  },
  {
   "cell_type": "markdown",
   "metadata": {},
   "source": [
    "This virtual document aims to provide guidance and reference for..."
   ]
  },
  {
   "cell_type": "markdown",
   "metadata": {},
   "source": [
    "### Import functions and set initial conditions "
   ]
  },
  {
   "cell_type": "code",
   "execution_count": 2,
   "metadata": {
    "collapsed": false
   },
   "outputs": [
    {
     "ename": "ImportError",
     "evalue": "No module named 'financial_functions.financial_functions'; 'financial_functions' is not a package",
     "output_type": "error",
     "traceback": [
      "\u001b[0;31m---------------------------------------------------------------------------\u001b[0m",
      "\u001b[0;31mImportError\u001b[0m                               Traceback (most recent call last)",
      "\u001b[0;32m<ipython-input-2-0bd349960a96>\u001b[0m in \u001b[0;36m<module>\u001b[0;34m()\u001b[0m\n\u001b[1;32m      6\u001b[0m \u001b[1;33m\u001b[0m\u001b[0m\n\u001b[1;32m      7\u001b[0m \u001b[1;32mfrom\u001b[0m \u001b[0mdatetime\u001b[0m \u001b[1;32mimport\u001b[0m \u001b[0mdatetime\u001b[0m\u001b[1;33m,\u001b[0m \u001b[0mdate\u001b[0m\u001b[1;33m\u001b[0m\u001b[0m\n\u001b[0;32m----> 8\u001b[0;31m \u001b[1;32mfrom\u001b[0m \u001b[0mfinancial_functions\u001b[0m\u001b[1;33m.\u001b[0m\u001b[0mfinancial_functions\u001b[0m \u001b[1;32mimport\u001b[0m \u001b[1;33m*\u001b[0m\u001b[1;33m\u001b[0m\u001b[0m\n\u001b[0m",
      "\u001b[0;31mImportError\u001b[0m: No module named 'financial_functions.financial_functions'; 'financial_functions' is not a package"
     ]
    }
   ],
   "source": [
    "%matplotlib inline\n",
    "\n",
    "import numpy as np\n",
    "import pandas as pd\n",
    "import matplotlib.pyplot as plt\n",
    "\n",
    "from datetime import datetime, date\n",
    "from financial_mathematics.financial_functions import *\n"
   ]
  },
  {
   "cell_type": "code",
   "execution_count": 2,
   "metadata": {
    "collapsed": false
   },
   "outputs": [],
   "source": [
    "\n",
    "# Set initial conditions \n",
    "\n",
    "\n",
    "initial_date = 'Sep 21 2016'\n",
    "final_date   = 'Mar 21 2017'\n",
    "\n",
    "# interest rate specif.\n",
    "rate_specifics = {\n",
    "    'rate':10.6492 / 100,\n",
    "    'cap':12\n",
    "}\n",
    "\n",
    "# terms and conditions \n",
    "pacted_terms = debt(initial_date = initial_date, \n",
    "                    final_date   = final_date,\n",
    "                    capital = 6000, \n",
    "                    rate = rate_specifics)\n"
   ]
  },
  {
   "cell_type": "markdown",
   "metadata": {},
   "source": [
    "### Time variables description\n",
    "\n",
    "[ add description]"
   ]
  },
  {
   "cell_type": "code",
   "execution_count": 3,
   "metadata": {
    "collapsed": false
   },
   "outputs": [
    {
     "name": "stdout",
     "output_type": "stream",
     "text": [
      "\n",
      "Initial_date: Sep 21 2016\n",
      "Actual date:  Dec 19 2016\n",
      "End date:     Mar 21 2017\n",
      "\n",
      "Remaining days: 92\n"
     ]
    }
   ],
   "source": [
    "# Time considerations \n",
    "\n",
    "string = '\\nInitial_date: {}\\nActual date:  {}\\nEnd date:     {}\\n\\nRemaining days: {}'\n",
    "\n",
    "print(string.format(pacted_terms.initial_date.strftime('%b %d %Y'),\n",
    "                    pacted_terms.actual_date.strftime('%b %d %Y'),\n",
    "                    pacted_terms.final_date.strftime('%b %d %Y'),\n",
    "                    pacted_terms.daysToGo()))\n"
   ]
  },
  {
   "cell_type": "markdown",
   "metadata": {},
   "source": [
    "### Capital description \n",
    "\n",
    "[ add description ]"
   ]
  },
  {
   "cell_type": "code",
   "execution_count": 4,
   "metadata": {
    "collapsed": false
   },
   "outputs": [
    {
     "name": "stdout",
     "output_type": "stream",
     "text": [
      "\n",
      "Starting capital: 6000\n",
      "Final capital:    6328.51\n",
      "\n",
      "Annual interest rate with monthly capitalization: 10.6492 %\n",
      "Discount rate available (anual with monthly cap.): 5.51 %\n"
     ]
    }
   ],
   "source": [
    "# Capital considerations \n",
    "\n",
    "string = '\\nStarting capital: {}\\nFinal capital:    {}\\n\\nAnnual interest rate with monthly capitalization: {} %'\n",
    "\n",
    "print(string.format(pacted_terms.capital, pacted_terms.final_capital,  round(100*pacted_terms.annualRate('1m'),4)))\n",
    "print('Discount rate available (anual with monthly cap.): {} %'.format(round(100*pacted_terms.discountRate('1m'),2)))"
   ]
  },
  {
   "cell_type": "markdown",
   "metadata": {},
   "source": [
    "**Note**: The discount rate is defined as the risk-free reference rate (more information [here](http://www.banxico.org.mx/SieInternet/consultarDirectorioInternetAction.do?accion=consultarCuadro&idCuadro=CF107&sector=22&locale=es))."
   ]
  },
  {
   "cell_type": "markdown",
   "metadata": {},
   "source": [
    "### Payment Scheme \n",
    "\n",
    "[ add description ]"
   ]
  },
  {
   "cell_type": "code",
   "execution_count": 6,
   "metadata": {
    "collapsed": false
   },
   "outputs": [
    {
     "data": {
      "text/html": [
       "<div>\n",
       "<table border=\"1\" class=\"dataframe\">\n",
       "  <thead>\n",
       "    <tr style=\"text-align: right;\">\n",
       "      <th></th>\n",
       "      <th>Dates</th>\n",
       "      <th>Payment</th>\n",
       "      <th>MXN_discount</th>\n",
       "      <th>Relative_discount (%)</th>\n",
       "      <th>Delta_days</th>\n",
       "    </tr>\n",
       "  </thead>\n",
       "  <tbody>\n",
       "    <tr>\n",
       "      <th>0</th>\n",
       "      <td>Dec 21 2016</td>\n",
       "      <td>6242.12</td>\n",
       "      <td>86.39</td>\n",
       "      <td>1.3651</td>\n",
       "      <td>90</td>\n",
       "    </tr>\n",
       "    <tr>\n",
       "      <th>1</th>\n",
       "      <td>Jan 21 2017</td>\n",
       "      <td>6271.74</td>\n",
       "      <td>56.77</td>\n",
       "      <td>0.8971</td>\n",
       "      <td>59</td>\n",
       "    </tr>\n",
       "    <tr>\n",
       "      <th>2</th>\n",
       "      <td>Feb 21 2017</td>\n",
       "      <td>6301.50</td>\n",
       "      <td>27.01</td>\n",
       "      <td>0.4268</td>\n",
       "      <td>28</td>\n",
       "    </tr>\n",
       "    <tr>\n",
       "      <th>3</th>\n",
       "      <td>Mar 21 2017</td>\n",
       "      <td>6328.51</td>\n",
       "      <td>0.00</td>\n",
       "      <td>0.0000</td>\n",
       "      <td>0</td>\n",
       "    </tr>\n",
       "  </tbody>\n",
       "</table>\n",
       "</div>"
      ],
      "text/plain": [
       "         Dates  Payment  MXN_discount  Relative_discount (%)  Delta_days\n",
       "0  Dec 21 2016  6242.12         86.39                 1.3651          90\n",
       "1  Jan 21 2017  6271.74         56.77                 0.8971          59\n",
       "2  Feb 21 2017  6301.50         27.01                 0.4268          28\n",
       "3  Mar 21 2017  6328.51          0.00                 0.0000           0"
      ]
     },
     "execution_count": 6,
     "metadata": {},
     "output_type": "execute_result"
    }
   ],
   "source": [
    "\n",
    "tentative_dates = ['Dec 21 2016','Jan 21 2017','Feb 21 2017','Mar 21 2017']\n",
    "early_payment = []\n",
    "for td in tentative_dates:\n",
    "    early_payment.append(round(pacted_terms.payDebt(td),2))\n",
    "\n",
    "core = {'Dates':tentative_dates, 'Payment':early_payment}\n",
    "\n",
    "payment_reference = pd.DataFrame(core)[['Dates', 'Payment']]\n",
    "payment_reference['MXN_discount'] = pacted_terms.final_capital - payment_reference.Payment\n",
    "payment_reference['Relative_discount (%)'] = np.round(100*(payment_reference.MXN_discount / pacted_terms.final_capital), 4)\n",
    "payment_reference['Delta_days'] = [pacted_terms.diffDates(d,pacted_terms.final_date.strftime('%b %d %Y')) for d in tentative_dates]\n",
    "payment_reference"
   ]
  },
  {
   "cell_type": "code",
   "execution_count": 59,
   "metadata": {
    "collapsed": false
   },
   "outputs": [
    {
     "data": {
      "text/plain": [
       "<matplotlib.text.Text at 0x9f58c10>"
      ]
     },
     "execution_count": 59,
     "metadata": {},
     "output_type": "execute_result"
    },
    {
     "data": {
      "image/png": "[encoded data removed]",
      "text/plain": [
       "<matplotlib.figure.Figure at 0x9f14bb0>"
      ]
     },
     "metadata": {},
     "output_type": "display_data"
    }
   ],
   "source": [
    "\n",
    "payment_reference.plot(x='Dates', y='Payment')\n",
    "plt.plot(payment_reference.Payment, 'ob')\n",
    "plt.grid()\n",
    "plt.ylabel('MXN')\n",
    "plt.title('Early Payment Scheme')"
   ]
  }
 ],
 "metadata": {
  "anaconda-cloud": {},
  "kernelspec": {
   "display_name": "Python [conda root]",
   "language": "python",
   "name": "conda-root-py"
  },
  "language_info": {
   "codemirror_mode": {
    "name": "ipython",
    "version": 3
   },
   "file_extension": ".py",
   "mimetype": "text/x-python",
   "name": "python",
   "nbconvert_exporter": "python",
   "pygments_lexer": "ipython3",
   "version": "3.5.2"
  }
 },
 "nbformat": 4,
 "nbformat_minor": 1
}
